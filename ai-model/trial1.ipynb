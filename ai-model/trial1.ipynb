{
 "cells": [
  {
   "metadata": {
    "ExecuteTime": {
     "end_time": "2025-03-23T11:01:16.858871Z",
     "start_time": "2025-03-23T11:01:16.193943Z"
    }
   },
   "cell_type": "code",
   "source": [
    "import pandas as pd\n",
    "import seaborn as sns\n",
    "import matplotlib.pyplot as plt\n",
    "from sklearn.model_selection import train_test_split\n",
    "\n"
   ],
   "id": "dc7e6be3e4a8d57d",
   "outputs": [],
   "execution_count": 23
  },
  {
   "metadata": {
    "ExecuteTime": {
     "end_time": "2025-03-23T10:48:03.563581Z",
     "start_time": "2025-03-23T10:48:03.276517Z"
    }
   },
   "cell_type": "code",
   "source": "df = pd.read_csv(\"D:\\\\Downloads\\\\PubChem_compound_text_chemical compounds.csv\")",
   "id": "b3d92296ae5496c0",
   "outputs": [],
   "execution_count": 4
  },
  {
   "metadata": {
    "ExecuteTime": {
     "end_time": "2025-03-23T10:48:04.240456Z",
     "start_time": "2025-03-23T10:48:04.223850Z"
    }
   },
   "cell_type": "code",
   "source": "df.head()",
   "id": "a6fce93130c2b217",
   "outputs": [
    {
     "data": {
      "text/plain": [
       "     cid        cmpdname                                        cmpdsynonym  \\\n",
       "0  89594        Nicotine  nicotine|L-Nicotine|54-11-5|(-)-Nicotine|(S)-N...   \n",
       "1  40326      Permethrin  Permethrin|52645-53-1|Pounce|Permethrine|Perme...   \n",
       "2  14982    Glycyrrhizin  Glycyrrhizic acid|glycyrrhizin|1405-86-3|Glycy...   \n",
       "3   2519        Caffeine  caffeine|58-08-2|Guaranine|1,3,7-Trimethylxant...   \n",
       "4    338  Salicylic Acid  salicylic acid|2-Hydroxybenzoic acid|69-72-7|o...   \n",
       "\n",
       "       mw           mf  polararea  complexity  xlogp  heavycnt  hbonddonor  \\\n",
       "0  162.23     C10H14N2       16.1       147.0    1.2        12           0   \n",
       "1  391.30  C21H20Cl2O3       35.5       521.0    6.5        26           0   \n",
       "2  822.90    C42H62O16      267.0      1730.0    3.7        58           8   \n",
       "3  194.19    C8H10N4O2       58.4       293.0   -0.1        14           0   \n",
       "4  138.12       C7H6O3       57.5       133.0    2.3        10           2   \n",
       "\n",
       "   ...  gpidcnt  gpfamilycnt       meshheadings  \\\n",
       "0  ...   112966        37613           Nicotine   \n",
       "1  ...    32864        11273         Permethrin   \n",
       "2  ...    87315        43247  Glycyrrhizic Acid   \n",
       "3  ...   125850        41299           Caffeine   \n",
       "4  ...   428643       148314     Salicylic Acid   \n",
       "\n",
       "                                           annothits annothitcnt  \\\n",
       "0  Agrochemical Information|Biological Test Resul...          20   \n",
       "1  Agrochemical Information|Biological Test Resul...          19   \n",
       "2  Biological Test Results|Interactions and Pathw...          19   \n",
       "3  Agrochemical Information|Biological Test Resul...          19   \n",
       "4  Biological Test Results|Interactions and Pathw...          19   \n",
       "\n",
       "                                                aids  cidcdate  \\\n",
       "0  421|426|427|433|434|435|445|530|540|541|542|54...  20040916   \n",
       "1  880|881|894|1030|1188|1379|1452|1457|1460|1463...  20050327   \n",
       "2  2517|86199|86201|265377|287075|288766|297145|2...  20040916   \n",
       "3  155|157|161|165|167|175|192|248|256|316|328|35...  20040916   \n",
       "4  155|157|161|165|167|175|179|248|485|568|583|59...  20040916   \n",
       "\n",
       "                                          sidsrcname  \\\n",
       "0  001Chemical|10X CHEM|1st Scientific|3B Scienti...   \n",
       "1  10X CHEM|3B Scientific (Wuhan) Corp|3WAY PHARM...   \n",
       "2  001Chemical|10X CHEM|3WAY PHARM INC|A2B Chem|A...   \n",
       "3  001Chemical|10X CHEM|3B Scientific (Wuhan) Cor...   \n",
       "4  001Chemical|10X CHEM|1st Scientific|3B Scienti...   \n",
       "\n",
       "                                             depcatg  \\\n",
       "0  Chemical Vendors|Curation Efforts|Governmental...   \n",
       "1  Chemical Vendors|Curation Efforts|Governmental...   \n",
       "2  Chemical Vendors|Curation Efforts|Governmental...   \n",
       "3  Chemical Vendors|Curation Efforts|Governmental...   \n",
       "4  Chemical Vendors|Curation Efforts|Governmental...   \n",
       "\n",
       "                                          annotation  \n",
       "0  N - Nervous system > N07 - Other nervous syste...  \n",
       "1  D004791 - Enzyme Inhibitors|D010575 - Pesticid...  \n",
       "2  A - Alimentary tract and metabolism > A05 - Bi...  \n",
       "3  C78272 - Agent Affecting Nervous System > C477...  \n",
       "4  C254 - Anti-Infective Agent > C52588 - Antibac...  \n",
       "\n",
       "[5 rows x 38 columns]"
      ],
      "text/html": [
       "<div>\n",
       "<style scoped>\n",
       "    .dataframe tbody tr th:only-of-type {\n",
       "        vertical-align: middle;\n",
       "    }\n",
       "\n",
       "    .dataframe tbody tr th {\n",
       "        vertical-align: top;\n",
       "    }\n",
       "\n",
       "    .dataframe thead th {\n",
       "        text-align: right;\n",
       "    }\n",
       "</style>\n",
       "<table border=\"1\" class=\"dataframe\">\n",
       "  <thead>\n",
       "    <tr style=\"text-align: right;\">\n",
       "      <th></th>\n",
       "      <th>cid</th>\n",
       "      <th>cmpdname</th>\n",
       "      <th>cmpdsynonym</th>\n",
       "      <th>mw</th>\n",
       "      <th>mf</th>\n",
       "      <th>polararea</th>\n",
       "      <th>complexity</th>\n",
       "      <th>xlogp</th>\n",
       "      <th>heavycnt</th>\n",
       "      <th>hbonddonor</th>\n",
       "      <th>...</th>\n",
       "      <th>gpidcnt</th>\n",
       "      <th>gpfamilycnt</th>\n",
       "      <th>meshheadings</th>\n",
       "      <th>annothits</th>\n",
       "      <th>annothitcnt</th>\n",
       "      <th>aids</th>\n",
       "      <th>cidcdate</th>\n",
       "      <th>sidsrcname</th>\n",
       "      <th>depcatg</th>\n",
       "      <th>annotation</th>\n",
       "    </tr>\n",
       "  </thead>\n",
       "  <tbody>\n",
       "    <tr>\n",
       "      <th>0</th>\n",
       "      <td>89594</td>\n",
       "      <td>Nicotine</td>\n",
       "      <td>nicotine|L-Nicotine|54-11-5|(-)-Nicotine|(S)-N...</td>\n",
       "      <td>162.23</td>\n",
       "      <td>C10H14N2</td>\n",
       "      <td>16.1</td>\n",
       "      <td>147.0</td>\n",
       "      <td>1.2</td>\n",
       "      <td>12</td>\n",
       "      <td>0</td>\n",
       "      <td>...</td>\n",
       "      <td>112966</td>\n",
       "      <td>37613</td>\n",
       "      <td>Nicotine</td>\n",
       "      <td>Agrochemical Information|Biological Test Resul...</td>\n",
       "      <td>20</td>\n",
       "      <td>421|426|427|433|434|435|445|530|540|541|542|54...</td>\n",
       "      <td>20040916</td>\n",
       "      <td>001Chemical|10X CHEM|1st Scientific|3B Scienti...</td>\n",
       "      <td>Chemical Vendors|Curation Efforts|Governmental...</td>\n",
       "      <td>N - Nervous system &gt; N07 - Other nervous syste...</td>\n",
       "    </tr>\n",
       "    <tr>\n",
       "      <th>1</th>\n",
       "      <td>40326</td>\n",
       "      <td>Permethrin</td>\n",
       "      <td>Permethrin|52645-53-1|Pounce|Permethrine|Perme...</td>\n",
       "      <td>391.30</td>\n",
       "      <td>C21H20Cl2O3</td>\n",
       "      <td>35.5</td>\n",
       "      <td>521.0</td>\n",
       "      <td>6.5</td>\n",
       "      <td>26</td>\n",
       "      <td>0</td>\n",
       "      <td>...</td>\n",
       "      <td>32864</td>\n",
       "      <td>11273</td>\n",
       "      <td>Permethrin</td>\n",
       "      <td>Agrochemical Information|Biological Test Resul...</td>\n",
       "      <td>19</td>\n",
       "      <td>880|881|894|1030|1188|1379|1452|1457|1460|1463...</td>\n",
       "      <td>20050327</td>\n",
       "      <td>10X CHEM|3B Scientific (Wuhan) Corp|3WAY PHARM...</td>\n",
       "      <td>Chemical Vendors|Curation Efforts|Governmental...</td>\n",
       "      <td>D004791 - Enzyme Inhibitors|D010575 - Pesticid...</td>\n",
       "    </tr>\n",
       "    <tr>\n",
       "      <th>2</th>\n",
       "      <td>14982</td>\n",
       "      <td>Glycyrrhizin</td>\n",
       "      <td>Glycyrrhizic acid|glycyrrhizin|1405-86-3|Glycy...</td>\n",
       "      <td>822.90</td>\n",
       "      <td>C42H62O16</td>\n",
       "      <td>267.0</td>\n",
       "      <td>1730.0</td>\n",
       "      <td>3.7</td>\n",
       "      <td>58</td>\n",
       "      <td>8</td>\n",
       "      <td>...</td>\n",
       "      <td>87315</td>\n",
       "      <td>43247</td>\n",
       "      <td>Glycyrrhizic Acid</td>\n",
       "      <td>Biological Test Results|Interactions and Pathw...</td>\n",
       "      <td>19</td>\n",
       "      <td>2517|86199|86201|265377|287075|288766|297145|2...</td>\n",
       "      <td>20040916</td>\n",
       "      <td>001Chemical|10X CHEM|3WAY PHARM INC|A2B Chem|A...</td>\n",
       "      <td>Chemical Vendors|Curation Efforts|Governmental...</td>\n",
       "      <td>A - Alimentary tract and metabolism &gt; A05 - Bi...</td>\n",
       "    </tr>\n",
       "    <tr>\n",
       "      <th>3</th>\n",
       "      <td>2519</td>\n",
       "      <td>Caffeine</td>\n",
       "      <td>caffeine|58-08-2|Guaranine|1,3,7-Trimethylxant...</td>\n",
       "      <td>194.19</td>\n",
       "      <td>C8H10N4O2</td>\n",
       "      <td>58.4</td>\n",
       "      <td>293.0</td>\n",
       "      <td>-0.1</td>\n",
       "      <td>14</td>\n",
       "      <td>0</td>\n",
       "      <td>...</td>\n",
       "      <td>125850</td>\n",
       "      <td>41299</td>\n",
       "      <td>Caffeine</td>\n",
       "      <td>Agrochemical Information|Biological Test Resul...</td>\n",
       "      <td>19</td>\n",
       "      <td>155|157|161|165|167|175|192|248|256|316|328|35...</td>\n",
       "      <td>20040916</td>\n",
       "      <td>001Chemical|10X CHEM|3B Scientific (Wuhan) Cor...</td>\n",
       "      <td>Chemical Vendors|Curation Efforts|Governmental...</td>\n",
       "      <td>C78272 - Agent Affecting Nervous System &gt; C477...</td>\n",
       "    </tr>\n",
       "    <tr>\n",
       "      <th>4</th>\n",
       "      <td>338</td>\n",
       "      <td>Salicylic Acid</td>\n",
       "      <td>salicylic acid|2-Hydroxybenzoic acid|69-72-7|o...</td>\n",
       "      <td>138.12</td>\n",
       "      <td>C7H6O3</td>\n",
       "      <td>57.5</td>\n",
       "      <td>133.0</td>\n",
       "      <td>2.3</td>\n",
       "      <td>10</td>\n",
       "      <td>2</td>\n",
       "      <td>...</td>\n",
       "      <td>428643</td>\n",
       "      <td>148314</td>\n",
       "      <td>Salicylic Acid</td>\n",
       "      <td>Biological Test Results|Interactions and Pathw...</td>\n",
       "      <td>19</td>\n",
       "      <td>155|157|161|165|167|175|179|248|485|568|583|59...</td>\n",
       "      <td>20040916</td>\n",
       "      <td>001Chemical|10X CHEM|1st Scientific|3B Scienti...</td>\n",
       "      <td>Chemical Vendors|Curation Efforts|Governmental...</td>\n",
       "      <td>C254 - Anti-Infective Agent &gt; C52588 - Antibac...</td>\n",
       "    </tr>\n",
       "  </tbody>\n",
       "</table>\n",
       "<p>5 rows × 38 columns</p>\n",
       "</div>"
      ]
     },
     "execution_count": 5,
     "metadata": {},
     "output_type": "execute_result"
    }
   ],
   "execution_count": 5
  },
  {
   "metadata": {
    "ExecuteTime": {
     "end_time": "2025-03-23T10:48:05.145480Z",
     "start_time": "2025-03-23T10:48:05.120311Z"
    }
   },
   "cell_type": "code",
   "source": "df.isnull().sum()",
   "id": "bee94a3999f22067",
   "outputs": [
    {
     "data": {
      "text/plain": [
       " cid                          0\n",
       "cmpdname                      0\n",
       "cmpdsynonym                   5\n",
       "mw                            0\n",
       "mf                            0\n",
       "polararea                     0\n",
       "complexity                    0\n",
       "xlogp                      4952\n",
       "heavycnt                      0\n",
       "hbonddonor                    0\n",
       "hbondacc                      0\n",
       "rotbonds                      0\n",
       "inchi                         0\n",
       "smiles                        0\n",
       "inchikey                      0\n",
       "iupacname                    93\n",
       "exactmass                     0\n",
       "monoisotopicmass              0\n",
       "charge                        0\n",
       "covalentunitcnt               0\n",
       "isotopeatomcnt                0\n",
       "totalatomstereocnt            0\n",
       "definedatomstereocnt          0\n",
       "undefinedatomstereocnt        0\n",
       "totalbondstereocnt            0\n",
       "definedbondstereocnt          0\n",
       "undefinedbondstereocnt        0\n",
       "pclidcnt                      0\n",
       "gpidcnt                       0\n",
       "gpfamilycnt                   0\n",
       "meshheadings              15501\n",
       "annothits                  2817\n",
       "annothitcnt                   0\n",
       "aids                       8017\n",
       "cidcdate                      0\n",
       "sidsrcname                    0\n",
       "depcatg                       0\n",
       "annotation                13836\n",
       "dtype: int64"
      ]
     },
     "execution_count": 6,
     "metadata": {},
     "output_type": "execute_result"
    }
   ],
   "execution_count": 6
  },
  {
   "metadata": {
    "ExecuteTime": {
     "end_time": "2025-03-23T10:48:17.513672Z",
     "start_time": "2025-03-23T10:48:17.502183Z"
    }
   },
   "cell_type": "code",
   "source": [
    "# Keep only relevant columns\n",
    "columns_to_keep = [\"mw\", \"xlogp\", \"hbonddonor\", \"hbondacc\"]\n",
    "df_filtered = df[columns_to_keep]\n",
    "\n",
    "# Display the updated dataframe\n",
    "df_filtered.head()\n"
   ],
   "id": "c955147a3d2fac52",
   "outputs": [
    {
     "data": {
      "text/plain": [
       "       mw  xlogp  hbonddonor  hbondacc\n",
       "0  162.23    1.2           0         2\n",
       "1  391.30    6.5           0         3\n",
       "2  822.90    3.7           8        16\n",
       "3  194.19   -0.1           0         3\n",
       "4  138.12    2.3           2         3"
      ],
      "text/html": [
       "<div>\n",
       "<style scoped>\n",
       "    .dataframe tbody tr th:only-of-type {\n",
       "        vertical-align: middle;\n",
       "    }\n",
       "\n",
       "    .dataframe tbody tr th {\n",
       "        vertical-align: top;\n",
       "    }\n",
       "\n",
       "    .dataframe thead th {\n",
       "        text-align: right;\n",
       "    }\n",
       "</style>\n",
       "<table border=\"1\" class=\"dataframe\">\n",
       "  <thead>\n",
       "    <tr style=\"text-align: right;\">\n",
       "      <th></th>\n",
       "      <th>mw</th>\n",
       "      <th>xlogp</th>\n",
       "      <th>hbonddonor</th>\n",
       "      <th>hbondacc</th>\n",
       "    </tr>\n",
       "  </thead>\n",
       "  <tbody>\n",
       "    <tr>\n",
       "      <th>0</th>\n",
       "      <td>162.23</td>\n",
       "      <td>1.2</td>\n",
       "      <td>0</td>\n",
       "      <td>2</td>\n",
       "    </tr>\n",
       "    <tr>\n",
       "      <th>1</th>\n",
       "      <td>391.30</td>\n",
       "      <td>6.5</td>\n",
       "      <td>0</td>\n",
       "      <td>3</td>\n",
       "    </tr>\n",
       "    <tr>\n",
       "      <th>2</th>\n",
       "      <td>822.90</td>\n",
       "      <td>3.7</td>\n",
       "      <td>8</td>\n",
       "      <td>16</td>\n",
       "    </tr>\n",
       "    <tr>\n",
       "      <th>3</th>\n",
       "      <td>194.19</td>\n",
       "      <td>-0.1</td>\n",
       "      <td>0</td>\n",
       "      <td>3</td>\n",
       "    </tr>\n",
       "    <tr>\n",
       "      <th>4</th>\n",
       "      <td>138.12</td>\n",
       "      <td>2.3</td>\n",
       "      <td>2</td>\n",
       "      <td>3</td>\n",
       "    </tr>\n",
       "  </tbody>\n",
       "</table>\n",
       "</div>"
      ]
     },
     "execution_count": 8,
     "metadata": {},
     "output_type": "execute_result"
    }
   ],
   "execution_count": 8
  },
  {
   "metadata": {
    "ExecuteTime": {
     "end_time": "2025-03-23T10:49:02.085190Z",
     "start_time": "2025-03-23T10:49:02.079464Z"
    }
   },
   "cell_type": "code",
   "source": "df_filtered.isnull().sum()",
   "id": "8d72c55941f0f0e7",
   "outputs": [
    {
     "data": {
      "text/plain": [
       "mw               0\n",
       "xlogp         4952\n",
       "hbonddonor       0\n",
       "hbondacc         0\n",
       "dtype: int64"
      ]
     },
     "execution_count": 9,
     "metadata": {},
     "output_type": "execute_result"
    }
   ],
   "execution_count": 9
  },
  {
   "metadata": {
    "ExecuteTime": {
     "end_time": "2025-03-23T10:51:46.552495Z",
     "start_time": "2025-03-23T10:51:46.544341Z"
    }
   },
   "cell_type": "code",
   "source": [
    "missing_percentage = (4952 / len(df)) * 100\n",
    "print(f\"Missing Percentage: {missing_percentage:.2f}%\")\n"
   ],
   "id": "6c88a6cad552ff79",
   "outputs": [
    {
     "name": "stdout",
     "output_type": "stream",
     "text": [
      "Missing Percentage: 31.26%\n"
     ]
    }
   ],
   "execution_count": 10
  },
  {
   "metadata": {
    "ExecuteTime": {
     "end_time": "2025-03-23T10:52:57.082702Z",
     "start_time": "2025-03-23T10:52:57.068678Z"
    }
   },
   "cell_type": "code",
   "source": [
    "# Fill missing values with the median of each column\n",
    "df_filtered[\"mw\"] = df_filtered[\"mw\"].fillna(df_filtered[\"mw\"].median())\n",
    "df_filtered[\"xlogp\"] = df_filtered[\"xlogp\"].fillna(df_filtered[\"xlogp\"].median())\n",
    "\n",
    "# Check if there are still missing values\n"
   ],
   "id": "8eb72cc27035826c",
   "outputs": [
    {
     "name": "stderr",
     "output_type": "stream",
     "text": [
      "C:\\Users\\DELL\\AppData\\Local\\Temp\\ipykernel_14200\\520330081.py:2: SettingWithCopyWarning: \n",
      "A value is trying to be set on a copy of a slice from a DataFrame.\n",
      "Try using .loc[row_indexer,col_indexer] = value instead\n",
      "\n",
      "See the caveats in the documentation: https://pandas.pydata.org/pandas-docs/stable/user_guide/indexing.html#returning-a-view-versus-a-copy\n",
      "  df_filtered[\"mw\"] = df_filtered[\"mw\"].fillna(df_filtered[\"mw\"].median())\n",
      "C:\\Users\\DELL\\AppData\\Local\\Temp\\ipykernel_14200\\520330081.py:3: SettingWithCopyWarning: \n",
      "A value is trying to be set on a copy of a slice from a DataFrame.\n",
      "Try using .loc[row_indexer,col_indexer] = value instead\n",
      "\n",
      "See the caveats in the documentation: https://pandas.pydata.org/pandas-docs/stable/user_guide/indexing.html#returning-a-view-versus-a-copy\n",
      "  df_filtered[\"xlogp\"] = df_filtered[\"xlogp\"].fillna(df_filtered[\"xlogp\"].median())\n"
     ]
    }
   ],
   "execution_count": 14
  },
  {
   "metadata": {
    "ExecuteTime": {
     "end_time": "2025-03-23T10:53:02.819598Z",
     "start_time": "2025-03-23T10:53:02.813851Z"
    }
   },
   "cell_type": "code",
   "source": "df_filtered.isnull().sum()",
   "id": "bc123999a72b54df",
   "outputs": [
    {
     "data": {
      "text/plain": [
       "mw            0\n",
       "xlogp         0\n",
       "hbonddonor    0\n",
       "hbondacc      0\n",
       "dtype: int64"
      ]
     },
     "execution_count": 15,
     "metadata": {},
     "output_type": "execute_result"
    }
   ],
   "execution_count": 15
  },
  {
   "metadata": {
    "ExecuteTime": {
     "end_time": "2025-03-23T10:53:48.610332Z",
     "start_time": "2025-03-23T10:53:48.493928Z"
    }
   },
   "cell_type": "code",
   "source": [
    "# Function to check Lipinski compliance\n",
    "def lipinski_compliance(row):\n",
    "    rules_passed = sum([\n",
    "        row[\"mw\"] <= 500,\n",
    "        row[\"xlogp\"] <= 5,\n",
    "        row[\"hbonddonor\"] <= 5,\n",
    "        row[\"hbondacc\"] <= 10\n",
    "    ])\n",
    "    return 1 if rules_passed >= 3 else 0  # 1 = Compliant, 0 = Non-compliant\n",
    "\n",
    "# Apply function to dataset\n",
    "df_filtered[\"Lipinski_Compliant\"] = df_filtered.apply(lipinski_compliance, axis=1)\n",
    "\n",
    "# Display updated dataset\n"
   ],
   "id": "f0274dc0794c7e46",
   "outputs": [
    {
     "name": "stderr",
     "output_type": "stream",
     "text": [
      "C:\\Users\\DELL\\AppData\\Local\\Temp\\ipykernel_14200\\1962648500.py:12: SettingWithCopyWarning: \n",
      "A value is trying to be set on a copy of a slice from a DataFrame.\n",
      "Try using .loc[row_indexer,col_indexer] = value instead\n",
      "\n",
      "See the caveats in the documentation: https://pandas.pydata.org/pandas-docs/stable/user_guide/indexing.html#returning-a-view-versus-a-copy\n",
      "  df_filtered[\"Lipinski_Compliant\"] = df_filtered.apply(lipinski_compliance, axis=1)\n"
     ]
    }
   ],
   "execution_count": 16
  },
  {
   "metadata": {
    "ExecuteTime": {
     "end_time": "2025-03-23T10:53:51.512277Z",
     "start_time": "2025-03-23T10:53:51.506496Z"
    }
   },
   "cell_type": "code",
   "source": "print(df_filtered.head())\n",
   "id": "994ee8a193c6d7a",
   "outputs": [
    {
     "name": "stdout",
     "output_type": "stream",
     "text": [
      "       mw  xlogp  hbonddonor  hbondacc  Lipinski_Compliant\n",
      "0  162.23    1.2           0         2                   1\n",
      "1  391.30    6.5           0         3                   1\n",
      "2  822.90    3.7           8        16                   0\n",
      "3  194.19   -0.1           0         3                   1\n",
      "4  138.12    2.3           2         3                   1\n"
     ]
    }
   ],
   "execution_count": 17
  },
  {
   "metadata": {
    "ExecuteTime": {
     "end_time": "2025-03-23T10:57:17.626051Z",
     "start_time": "2025-03-23T10:57:17.423380Z"
    }
   },
   "cell_type": "code",
   "source": [
    "import seaborn as sns\n",
    "import matplotlib.pyplot as plt\n",
    "\n",
    "sns.countplot(x=df_filtered[\"Lipinski_Compliant\"])\n",
    "plt.xlabel(\"Lipinski Compliance (1 = Compliant, 0 = Non-Compliant)\")\n",
    "plt.ylabel(\"Count\")\n",
    "plt.title(\"Distribution of Drug-Like Compounds\")\n",
    "plt.show()\n"
   ],
   "id": "733ed5da1cbd9e9b",
   "outputs": [
    {
     "data": {
      "text/plain": [
       "<Figure size 640x480 with 1 Axes>"
      ],
      "image/png": "[encoded data removed]"
     },
     "metadata": {},
     "output_type": "display_data"
    }
   ],
   "execution_count": 21
  },
  {
   "metadata": {
    "ExecuteTime": {
     "end_time": "2025-03-23T11:01:22.652419Z",
     "start_time": "2025-03-23T11:01:22.642852Z"
    }
   },
   "cell_type": "code",
   "source": [
    "\n",
    "# Select features (independent variables)\n",
    "X = df_filtered[[\"mw\", \"xlogp\", \"hbonddonor\", \"hbondacc\"]]\n",
    "\n",
    "# Target variable (dependent variable)\n",
    "y = df_filtered[\"Lipinski_Compliant\"]\n",
    "\n",
    "# Split data into 80% train, 20% test\n",
    "X_train, X_test, y_train, y_test = train_test_split(X, y, test_size=0.2, random_state=42)\n",
    "\n",
    "print(f\"Training samples: {len(X_train)}, Test samples: {len(X_test)}\")\n"
   ],
   "id": "fc6d0638f3a1d1e2",
   "outputs": [
    {
     "name": "stdout",
     "output_type": "stream",
     "text": [
      "Training samples: 12671, Test samples: 3168\n"
     ]
    }
   ],
   "execution_count": 24
  },
  {
   "metadata": {
    "ExecuteTime": {
     "end_time": "2025-03-23T11:01:47.588134Z",
     "start_time": "2025-03-23T11:01:47.114349Z"
    }
   },
   "cell_type": "code",
   "source": [
    "from sklearn.linear_model import LogisticRegression\n",
    "\n",
    "# Initialize and train the model\n",
    "model = LogisticRegression()\n",
    "model.fit(X_train, y_train)\n",
    "\n",
    "# Make predictions\n",
    "y_pred = model.predict(X_test)\n"
   ],
   "id": "174310b55ce5717e",
   "outputs": [],
   "execution_count": 25
  },
  {
   "metadata": {
    "ExecuteTime": {
     "end_time": "2025-03-23T11:01:54.884771Z",
     "start_time": "2025-03-23T11:01:54.872524Z"
    }
   },
   "cell_type": "code",
   "source": [
    "from sklearn.metrics import accuracy_score, classification_report\n",
    "\n",
    "# Accuracy Score\n",
    "accuracy = accuracy_score(y_test, y_pred)\n",
    "print(f\"Model Accuracy: {accuracy:.2f}\")\n",
    "\n",
    "# Classification Report\n",
    "print(\"Classification Report:\\n\", classification_report(y_test, y_pred))\n"
   ],
   "id": "676dc09dd0ee5f89",
   "outputs": [
    {
     "name": "stdout",
     "output_type": "stream",
     "text": [
      "Model Accuracy: 0.95\n",
      "Classification Report:\n",
      "               precision    recall  f1-score   support\n",
      "\n",
      "           0       0.89      0.83      0.86       551\n",
      "           1       0.97      0.98      0.97      2617\n",
      "\n",
      "    accuracy                           0.95      3168\n",
      "   macro avg       0.93      0.91      0.92      3168\n",
      "weighted avg       0.95      0.95      0.95      3168\n",
      "\n"
     ]
    }
   ],
   "execution_count": 26
  },
  {
   "metadata": {
    "ExecuteTime": {
     "end_time": "2025-03-23T11:02:44.310667Z",
     "start_time": "2025-03-23T11:02:44.304969Z"
    }
   },
   "cell_type": "code",
   "source": [
    "import numpy as np\n",
    "\n",
    "# Get feature importance from Logistic Regression coefficients\n",
    "importance = np.abs(model.coef_)[0]  # Take absolute values\n",
    "\n",
    "# Print feature importance\n",
    "features = [\"mw\", \"xlogp\", \"hbonddonor\", \"hbondacc\"]\n",
    "for feat, imp in zip(features, importance):\n",
    "    print(f\"{feat}: {imp:.4f}\")\n"
   ],
   "id": "ce2d510fb456e293",
   "outputs": [
    {
     "name": "stdout",
     "output_type": "stream",
     "text": [
      "mw: 0.0093\n",
      "xlogp: 0.6553\n",
      "hbonddonor: 0.5772\n",
      "hbondacc: 0.6876\n"
     ]
    }
   ],
   "execution_count": 27
  },
  {
   "metadata": {
    "ExecuteTime": {
     "end_time": "2025-03-23T11:03:14.425414Z",
     "start_time": "2025-03-23T11:03:13.166915Z"
    }
   },
   "cell_type": "code",
   "source": [
    "from sklearn.ensemble import RandomForestClassifier\n",
    "\n",
    "# Train a Random Forest model\n",
    "rf_model = RandomForestClassifier(n_estimators=100, random_state=42)\n",
    "rf_model.fit(X_train, y_train)\n",
    "\n",
    "# Predictions & evaluation\n",
    "y_pred_rf = rf_model.predict(X_test)\n",
    "print(f\"Random Forest Accuracy: {accuracy_score(y_test, y_pred_rf):.2f}\")\n",
    "print(\"Classification Report:\\n\", classification_report(y_test, y_pred_rf))\n"
   ],
   "id": "b5a1f77120864d61",
   "outputs": [
    {
     "name": "stdout",
     "output_type": "stream",
     "text": [
      "Random Forest Accuracy: 1.00\n",
      "Classification Report:\n",
      "               precision    recall  f1-score   support\n",
      "\n",
      "           0       1.00      1.00      1.00       551\n",
      "           1       1.00      1.00      1.00      2617\n",
      "\n",
      "    accuracy                           1.00      3168\n",
      "   macro avg       1.00      1.00      1.00      3168\n",
      "weighted avg       1.00      1.00      1.00      3168\n",
      "\n"
     ]
    }
   ],
   "execution_count": 28
  },
  {
   "metadata": {
    "ExecuteTime": {
     "end_time": "2025-03-23T11:03:54.800360Z",
     "start_time": "2025-03-23T11:03:54.789298Z"
    }
   },
   "cell_type": "code",
   "source": [
    "import pandas as pd\n",
    "\n",
    "# Get feature importance\n",
    "rf_importance = rf_model.feature_importances_\n",
    "\n",
    "# Create DataFrame for better visualization\n",
    "feature_importance_df = pd.DataFrame({\"Feature\": X_train.columns, \"Importance\": rf_importance})\n",
    "feature_importance_df = feature_importance_df.sort_values(by=\"Importance\", ascending=False)\n",
    "\n",
    "print(feature_importance_df)\n"
   ],
   "id": "9aaf31be1d4255e4",
   "outputs": [
    {
     "name": "stdout",
     "output_type": "stream",
     "text": [
      "      Feature  Importance\n",
      "3    hbondacc    0.440517\n",
      "0          mw    0.319739\n",
      "2  hbonddonor    0.152314\n",
      "1       xlogp    0.087429\n"
     ]
    }
   ],
   "execution_count": 29
  },
  {
   "metadata": {
    "ExecuteTime": {
     "end_time": "2025-03-23T11:04:07.925765Z",
     "start_time": "2025-03-23T11:04:05.617287Z"
    }
   },
   "cell_type": "code",
   "source": [
    "from sklearn.model_selection import cross_val_score\n",
    "\n",
    "# Cross-validation (5 folds)\n",
    "cv_scores = cross_val_score(rf_model, X_train, y_train, cv=5)\n",
    "print(f\"Cross-Validation Accuracy: {cv_scores.mean():.2f}\")\n"
   ],
   "id": "b4c10d216bbc4082",
   "outputs": [
    {
     "name": "stdout",
     "output_type": "stream",
     "text": [
      "Cross-Validation Accuracy: 1.00\n"
     ]
    }
   ],
   "execution_count": 30
  },
  {
   "metadata": {
    "ExecuteTime": {
     "end_time": "2025-03-23T11:05:10.123467Z",
     "start_time": "2025-03-23T11:05:08.533977Z"
    }
   },
   "cell_type": "code",
   "source": [
    "import numpy as np\n",
    "y_train_shuffled = np.random.permutation(y_train)  # Shuffle labels\n",
    "rf_model.fit(X_train, y_train_shuffled)\n",
    "\n",
    "y_pred_shuffled = rf_model.predict(X_test)\n",
    "print(f\"Accuracy with Shuffled Labels: {accuracy_score(y_test, y_pred_shuffled):.2f}\")\n"
   ],
   "id": "62943aef4ba3ecf",
   "outputs": [
    {
     "name": "stdout",
     "output_type": "stream",
     "text": [
      "Accuracy with Shuffled Labels: 0.78\n"
     ]
    }
   ],
   "execution_count": 31
  },
  {
   "metadata": {
    "ExecuteTime": {
     "end_time": "2025-03-23T11:06:03.783541Z",
     "start_time": "2025-03-23T11:06:03.668760Z"
    }
   },
   "cell_type": "code",
   "source": [
    "\n",
    "# Add target variable back to dataset\n",
    "df_filtered[\"Lipinski_Compliant\"] = y\n",
    "\n",
    "# Check correlation\n",
    "plt.figure(figsize=(10,6))\n",
    "sns.heatmap(df_filtered.corr(), annot=True, cmap=\"coolwarm\", fmt=\".2f\")\n",
    "plt.title(\"Feature Correlation Heatmap\")\n",
    "plt.show()\n"
   ],
   "id": "3f56d5c69352f06a",
   "outputs": [
    {
     "name": "stderr",
     "output_type": "stream",
     "text": [
      "C:\\Users\\DELL\\AppData\\Local\\Temp\\ipykernel_14200\\3826406726.py:2: SettingWithCopyWarning: \n",
      "A value is trying to be set on a copy of a slice from a DataFrame.\n",
      "Try using .loc[row_indexer,col_indexer] = value instead\n",
      "\n",
      "See the caveats in the documentation: https://pandas.pydata.org/pandas-docs/stable/user_guide/indexing.html#returning-a-view-versus-a-copy\n",
      "  df_filtered[\"Lipinski_Compliant\"] = y\n"
     ]
    },
    {
     "data": {
      "text/plain": [
       "<Figure size 1000x600 with 2 Axes>"
      ],
      "image/png": "[encoded data removed]"
     },
     "metadata": {},
     "output_type": "display_data"
    }
   ],
   "execution_count": 32
  },
  {
   "metadata": {
    "ExecuteTime": {
     "end_time": "2025-03-23T11:07:09.968096Z",
     "start_time": "2025-03-23T11:07:09.553413Z"
    }
   },
   "cell_type": "code",
   "source": [
    "X_train_reduced = X_train.drop(columns=[\"hbondacc\", \"mw\"])\n",
    "X_test_reduced = X_test.drop(columns=[\"hbondacc\", \"mw\"])\n",
    "\n",
    "rf_model_reduced = RandomForestClassifier(random_state=42)\n",
    "rf_model_reduced.fit(X_train_reduced, y_train)\n",
    "\n",
    "y_pred_reduced = rf_model_reduced.predict(X_test_reduced)\n",
    "print(f\"Reduced Feature Accuracy: {accuracy_score(y_test, y_pred_reduced):.2f}\")\n"
   ],
   "id": "62baa36131c33c6f",
   "outputs": [
    {
     "name": "stdout",
     "output_type": "stream",
     "text": [
      "Reduced Feature Accuracy: 0.92\n"
     ]
    }
   ],
   "execution_count": 33
  },
  {
   "metadata": {
    "ExecuteTime": {
     "end_time": "2025-03-23T11:07:29.100581Z",
     "start_time": "2025-03-23T11:07:27.535674Z"
    }
   },
   "cell_type": "code",
   "source": [
    "from sklearn.model_selection import cross_val_score\n",
    "\n",
    "cv_scores = cross_val_score(rf_model_reduced, X_train_reduced, y_train, cv=5)\n",
    "print(f\"Cross-Validation Accuracy: {cv_scores.mean():.2f}\")\n"
   ],
   "id": "785d75e7691492ad",
   "outputs": [
    {
     "name": "stdout",
     "output_type": "stream",
     "text": [
      "Cross-Validation Accuracy: 0.91\n"
     ]
    }
   ],
   "execution_count": 34
  },
  {
   "metadata": {
    "ExecuteTime": {
     "end_time": "2025-03-23T11:08:09.844576Z",
     "start_time": "2025-03-23T11:08:09.827660Z"
    }
   },
   "cell_type": "code",
   "source": [
    "feature_importance = pd.DataFrame({\n",
    "    \"Feature\": X_train_reduced.columns,\n",
    "    \"Importance\": rf_model_reduced.feature_importances_\n",
    "}).sort_values(by=\"Importance\", ascending=False)\n",
    "\n",
    "print(feature_importance)\n"
   ],
   "id": "3f53a60995476e33",
   "outputs": [
    {
     "name": "stdout",
     "output_type": "stream",
     "text": [
      "      Feature  Importance\n",
      "1  hbonddonor    0.753707\n",
      "0       xlogp    0.246293\n"
     ]
    }
   ],
   "execution_count": 35
  },
  {
   "metadata": {
    "ExecuteTime": {
     "end_time": "2025-03-23T11:08:25.858095Z",
     "start_time": "2025-03-23T11:08:25.826948Z"
    }
   },
   "cell_type": "code",
   "source": [
    "from sklearn.linear_model import LogisticRegression\n",
    "\n",
    "lr_model = LogisticRegression()\n",
    "lr_model.fit(X_train_reduced, y_train)\n",
    "y_pred_lr = lr_model.predict(X_test_reduced)\n",
    "\n",
    "print(f\"Logistic Regression Accuracy: {accuracy_score(y_test, y_pred_lr):.2f}\")\n"
   ],
   "id": "b7e8587ced2e5a71",
   "outputs": [
    {
     "name": "stdout",
     "output_type": "stream",
     "text": [
      "Logistic Regression Accuracy: 0.91\n"
     ]
    }
   ],
   "execution_count": 36
  },
  {
   "metadata": {
    "ExecuteTime": {
     "end_time": "2025-03-23T11:09:56.031630Z",
     "start_time": "2025-03-23T11:09:55.767779Z"
    }
   },
   "cell_type": "code",
   "source": [
    "from xgboost import XGBClassifier\n",
    "\n",
    "xgb_model = XGBClassifier()\n",
    "xgb_model.fit(X_train_reduced, y_train)\n",
    "y_pred_xgb = xgb_model.predict(X_test_reduced)\n",
    "\n",
    "print(f\"XGBoost Accuracy: {accuracy_score(y_test, y_pred_xgb):.2f}\")\n"
   ],
   "id": "d1121fc87526bcb0",
   "outputs": [
    {
     "name": "stdout",
     "output_type": "stream",
     "text": [
      "XGBoost Accuracy: 0.92\n"
     ]
    }
   ],
   "execution_count": 39
  },
  {
   "metadata": {
    "ExecuteTime": {
     "end_time": "2025-03-23T11:11:34.808785Z",
     "start_time": "2025-03-23T11:11:19.023274Z"
    }
   },
   "cell_type": "code",
   "source": [
    "from xgboost import XGBClassifier\n",
    "from sklearn.model_selection import GridSearchCV\n",
    "\n",
    "# Define hyperparameter grid\n",
    "param_grid = {\n",
    "    'n_estimators': [50, 100, 200],\n",
    "    'max_depth': [3, 5, 7],\n",
    "    'learning_rate': [0.01, 0.1, 0.2],\n",
    "    'subsample': [0.7, 0.8, 1.0],\n",
    "    'colsample_bytree': [0.7, 0.8, 1.0]\n",
    "}\n",
    "\n",
    "# Initialize model\n",
    "xgb_model = XGBClassifier()\n",
    "\n",
    "# Grid search with 5-fold cross-validation\n",
    "grid_search = GridSearchCV(xgb_model, param_grid, cv=5, scoring='accuracy', n_jobs=-1, verbose=2)\n",
    "grid_search.fit(X_train_reduced, y_train)\n",
    "\n",
    "# Best parameters and accuracy\n",
    "print(\"Best Parameters:\", grid_search.best_params_)\n",
    "print(\"Best Accuracy:\", grid_search.best_score_)\n"
   ],
   "id": "8cb8eb46b4509c37",
   "outputs": [
    {
     "name": "stdout",
     "output_type": "stream",
     "text": [
      "Fitting 5 folds for each of 243 candidates, totalling 1215 fits\n",
      "Best Parameters: {'colsample_bytree': 1.0, 'learning_rate': 0.01, 'max_depth': 5, 'n_estimators': 200, 'subsample': 0.8}\n",
      "Best Accuracy: 0.9158706600100566\n"
     ]
    }
   ],
   "execution_count": 40
  },
  {
   "metadata": {
    "ExecuteTime": {
     "end_time": "2025-03-23T11:11:39.909754Z",
     "start_time": "2025-03-23T11:11:39.901340Z"
    }
   },
   "cell_type": "code",
   "source": [
    "best_xgb = grid_search.best_estimator_\n",
    "y_pred_best = best_xgb.predict(X_test_reduced)\n",
    "\n",
    "# Final accuracy\n",
    "from sklearn.metrics import accuracy_score\n",
    "print(\"Final XGBoost Accuracy:\", accuracy_score(y_test, y_pred_best))\n"
   ],
   "id": "5e79fb70e67a2d8",
   "outputs": [
    {
     "name": "stdout",
     "output_type": "stream",
     "text": [
      "Final XGBoost Accuracy: 0.9119318181818182\n"
     ]
    }
   ],
   "execution_count": 41
  },
  {
   "metadata": {
    "ExecuteTime": {
     "end_time": "2025-03-23T11:12:48.268811Z",
     "start_time": "2025-03-23T11:12:47.951837Z"
    }
   },
   "cell_type": "code",
   "source": [
    "best_xgb = XGBClassifier(\n",
    "    colsample_bytree=1.0, learning_rate=0.01, max_depth=5,\n",
    "    n_estimators=500, subsample=0.8\n",
    ")\n",
    "best_xgb.fit(X_train_reduced, y_train)\n",
    "\n",
    "y_pred_final = best_xgb.predict(X_test_reduced)\n",
    "print(\"Final Tuned XGBoost Accuracy:\", accuracy_score(y_test, y_pred_final))\n"
   ],
   "id": "9a50e09e6f64d073",
   "outputs": [
    {
     "name": "stdout",
     "output_type": "stream",
     "text": [
      "Final Tuned XGBoost Accuracy: 0.9195075757575758\n"
     ]
    }
   ],
   "execution_count": 42
  },
  {
   "metadata": {
    "ExecuteTime": {
     "end_time": "2025-03-23T11:13:13.959330Z",
     "start_time": "2025-03-23T11:13:12.887676Z"
    }
   },
   "cell_type": "code",
   "source": [
    "from sklearn.ensemble import VotingClassifier\n",
    "from xgboost import XGBClassifier\n",
    "from sklearn.ensemble import RandomForestClassifier\n",
    "from sklearn.metrics import accuracy_score, classification_report\n",
    "\n",
    "# Define XGBoost model\n",
    "xgb_model = XGBClassifier(\n",
    "    colsample_bytree=1.0, learning_rate=0.01, max_depth=5,\n",
    "    n_estimators=200, subsample=0.8\n",
    ")\n",
    "\n",
    "# Define Random Forest model\n",
    "rf_model = RandomForestClassifier(\n",
    "    n_estimators=200, max_depth=10, random_state=42\n",
    ")\n",
    "\n",
    "# Create the ensemble using Voting Classifier\n",
    "hybrid_model = VotingClassifier(\n",
    "    estimators=[('xgb', xgb_model), ('rf', rf_model)],\n",
    "    voting='soft'  # Use probability-based averaging\n",
    ")\n",
    "\n",
    "# Train the hybrid model\n",
    "hybrid_model.fit(X_train_reduced, y_train)\n",
    "\n",
    "# Predictions\n",
    "y_pred_hybrid = hybrid_model.predict(X_test_reduced)\n",
    "\n",
    "# Evaluate performance\n",
    "accuracy_hybrid = accuracy_score(y_test, y_pred_hybrid)\n",
    "print(\"Hybrid Model Accuracy:\", accuracy_hybrid)\n",
    "print(\"Classification Report:\\n\", classification_report(y_test, y_pred_hybrid))\n"
   ],
   "id": "6127b8dab8c71726",
   "outputs": [
    {
     "name": "stdout",
     "output_type": "stream",
     "text": [
      "Hybrid Model Accuracy: 0.9081439393939394\n",
      "Classification Report:\n",
      "               precision    recall  f1-score   support\n",
      "\n",
      "           0       0.85      0.58      0.69       551\n",
      "           1       0.92      0.98      0.95      2617\n",
      "\n",
      "    accuracy                           0.91      3168\n",
      "   macro avg       0.88      0.78      0.82      3168\n",
      "weighted avg       0.90      0.91      0.90      3168\n",
      "\n"
     ]
    }
   ],
   "execution_count": 43
  },
  {
   "metadata": {
    "ExecuteTime": {
     "end_time": "2025-03-23T13:17:03.663411Z",
     "start_time": "2025-03-23T13:16:34.715283Z"
    }
   },
   "cell_type": "code",
   "source": [
    "import tensorflow as tf\n",
    "from tensorflow import keras\n",
    "from tensorflow.keras.models import Sequential\n",
    "from tensorflow.keras.layers import Dense, Dropout\n",
    "from sklearn.preprocessing import StandardScaler\n",
    "from sklearn.model_selection import train_test_split\n",
    "\n",
    "# Normalize Data\n",
    "scaler = StandardScaler()\n",
    "X_scaled = scaler.fit_transform(X)  # Assuming X contains 'mw', 'xlogp', etc.\n",
    "\n",
    "# Train-Test Split\n",
    "X_train, X_test, y_train, y_test = train_test_split(X_scaled, y, test_size=0.2, random_state=42)\n",
    "\n",
    "# Define MLP Model\n",
    "model = Sequential([\n",
    "    Dense(16, activation='relu', input_shape=(X_train.shape[1],)),  # Hidden Layer 1\n",
    "    Dropout(0.3),  # Prevent overfitting\n",
    "    Dense(8, activation='relu'),  # Hidden Layer 2\n",
    "    Dense(1, activation='sigmoid')  # Output Layer (Binary Classification)\n",
    "])\n",
    "\n",
    "# Compile Model\n",
    "model.compile(optimizer='adam', loss='binary_crossentropy', metrics=['accuracy'])\n",
    "\n",
    "# Train Model\n",
    "history = model.fit(X_train, y_train, epochs=50, batch_size=32, validation_data=(X_test, y_test))\n",
    "\n",
    "# Evaluate Model\n",
    "test_loss, test_acc = model.evaluate(X_test, y_test)\n",
    "print(f\"MLP Test Accuracy: {test_acc:.4f}\")\n"
   ],
   "id": "ed08be06ce5d7ea0",
   "outputs": [
    {
     "name": "stdout",
     "output_type": "stream",
     "text": [
      "Epoch 1/50\n"
     ]
    },
    {
     "name": "stderr",
     "output_type": "stream",
     "text": [
      "B:\\Projects\\IITD\\.venv\\Lib\\site-packages\\keras\\src\\layers\\core\\dense.py:87: UserWarning: Do not pass an `input_shape`/`input_dim` argument to a layer. When using Sequential models, prefer using an `Input(shape)` object as the first layer in the model instead.\n",
      "  super().__init__(activity_regularizer=activity_regularizer, **kwargs)\n"
     ]
    },
    {
     "name": "stdout",
     "output_type": "stream",
     "text": [
      "\u001B[1m396/396\u001B[0m \u001B[32m━━━━━━━━━━━━━━━━━━━━\u001B[0m\u001B[37m\u001B[0m \u001B[1m1s\u001B[0m 1ms/step - accuracy: 0.7994 - loss: 0.5198 - val_accuracy: 0.9441 - val_loss: 0.1468\n",
      "Epoch 2/50\n",
      "\u001B[1m396/396\u001B[0m \u001B[32m━━━━━━━━━━━━━━━━━━━━\u001B[0m\u001B[37m\u001B[0m \u001B[1m0s\u001B[0m 1ms/step - accuracy: 0.9451 - loss: 0.1484 - val_accuracy: 0.9634 - val_loss: 0.0933\n",
      "Epoch 3/50\n",
      "\u001B[1m396/396\u001B[0m \u001B[32m━━━━━━━━━━━━━━━━━━━━\u001B[0m\u001B[37m\u001B[0m \u001B[1m0s\u001B[0m 1ms/step - accuracy: 0.9571 - loss: 0.1069 - val_accuracy: 0.9681 - val_loss: 0.0780\n",
      "Epoch 4/50\n",
      "\u001B[1m396/396\u001B[0m \u001B[32m━━━━━━━━━━━━━━━━━━━━\u001B[0m\u001B[37m\u001B[0m \u001B[1m0s\u001B[0m 1ms/step - accuracy: 0.9585 - loss: 0.1014 - val_accuracy: 0.9700 - val_loss: 0.0725\n",
      "Epoch 5/50\n",
      "\u001B[1m396/396\u001B[0m \u001B[32m━━━━━━━━━━━━━━━━━━━━\u001B[0m\u001B[37m\u001B[0m \u001B[1m0s\u001B[0m 1ms/step - accuracy: 0.9626 - loss: 0.0913 - val_accuracy: 0.9697 - val_loss: 0.0697\n",
      "Epoch 6/50\n",
      "\u001B[1m396/396\u001B[0m \u001B[32m━━━━━━━━━━━━━━━━━━━━\u001B[0m\u001B[37m\u001B[0m \u001B[1m0s\u001B[0m 1ms/step - accuracy: 0.9629 - loss: 0.0901 - val_accuracy: 0.9716 - val_loss: 0.0680\n",
      "Epoch 7/50\n",
      "\u001B[1m396/396\u001B[0m \u001B[32m━━━━━━━━━━━━━━━━━━━━\u001B[0m\u001B[37m\u001B[0m \u001B[1m0s\u001B[0m 1ms/step - accuracy: 0.9652 - loss: 0.0847 - val_accuracy: 0.9722 - val_loss: 0.0664\n",
      "Epoch 8/50\n",
      "\u001B[1m396/396\u001B[0m \u001B[32m━━━━━━━━━━━━━━━━━━━━\u001B[0m\u001B[37m\u001B[0m \u001B[1m0s\u001B[0m 1ms/step - accuracy: 0.9613 - loss: 0.0909 - val_accuracy: 0.9706 - val_loss: 0.0658\n",
      "Epoch 9/50\n",
      "\u001B[1m396/396\u001B[0m \u001B[32m━━━━━━━━━━━━━━━━━━━━\u001B[0m\u001B[37m\u001B[0m \u001B[1m0s\u001B[0m 1ms/step - accuracy: 0.9647 - loss: 0.0828 - val_accuracy: 0.9722 - val_loss: 0.0645\n",
      "Epoch 10/50\n",
      "\u001B[1m396/396\u001B[0m \u001B[32m━━━━━━━━━━━━━━━━━━━━\u001B[0m\u001B[37m\u001B[0m \u001B[1m0s\u001B[0m 1ms/step - accuracy: 0.9647 - loss: 0.0844 - val_accuracy: 0.9732 - val_loss: 0.0633\n",
      "Epoch 11/50\n",
      "\u001B[1m396/396\u001B[0m \u001B[32m━━━━━━━━━━━━━━━━━━━━\u001B[0m\u001B[37m\u001B[0m \u001B[1m0s\u001B[0m 1ms/step - accuracy: 0.9658 - loss: 0.0785 - val_accuracy: 0.9754 - val_loss: 0.0620\n",
      "Epoch 12/50\n",
      "\u001B[1m396/396\u001B[0m \u001B[32m━━━━━━━━━━━━━━━━━━━━\u001B[0m\u001B[37m\u001B[0m \u001B[1m0s\u001B[0m 1ms/step - accuracy: 0.9694 - loss: 0.0754 - val_accuracy: 0.9751 - val_loss: 0.0603\n",
      "Epoch 13/50\n",
      "\u001B[1m396/396\u001B[0m \u001B[32m━━━━━━━━━━━━━━━━━━━━\u001B[0m\u001B[37m\u001B[0m \u001B[1m0s\u001B[0m 1ms/step - accuracy: 0.9726 - loss: 0.0738 - val_accuracy: 0.9763 - val_loss: 0.0600\n",
      "Epoch 14/50\n",
      "\u001B[1m396/396\u001B[0m \u001B[32m━━━━━━━━━━━━━━━━━━━━\u001B[0m\u001B[37m\u001B[0m \u001B[1m0s\u001B[0m 1ms/step - accuracy: 0.9677 - loss: 0.0765 - val_accuracy: 0.9770 - val_loss: 0.0588\n",
      "Epoch 15/50\n",
      "\u001B[1m396/396\u001B[0m \u001B[32m━━━━━━━━━━━━━━━━━━━━\u001B[0m\u001B[37m\u001B[0m \u001B[1m0s\u001B[0m 1ms/step - accuracy: 0.9676 - loss: 0.0776 - val_accuracy: 0.9766 - val_loss: 0.0582\n",
      "Epoch 16/50\n",
      "\u001B[1m396/396\u001B[0m \u001B[32m━━━━━━━━━━━━━━━━━━━━\u001B[0m\u001B[37m\u001B[0m \u001B[1m0s\u001B[0m 1ms/step - accuracy: 0.9722 - loss: 0.0712 - val_accuracy: 0.9766 - val_loss: 0.0582\n",
      "Epoch 17/50\n",
      "\u001B[1m396/396\u001B[0m \u001B[32m━━━━━━━━━━━━━━━━━━━━\u001B[0m\u001B[37m\u001B[0m \u001B[1m0s\u001B[0m 1ms/step - accuracy: 0.9722 - loss: 0.0725 - val_accuracy: 0.9792 - val_loss: 0.0569\n",
      "Epoch 18/50\n",
      "\u001B[1m396/396\u001B[0m \u001B[32m━━━━━━━━━━━━━━━━━━━━\u001B[0m\u001B[37m\u001B[0m \u001B[1m0s\u001B[0m 1ms/step - accuracy: 0.9737 - loss: 0.0684 - val_accuracy: 0.9789 - val_loss: 0.0563\n",
      "Epoch 19/50\n",
      "\u001B[1m396/396\u001B[0m \u001B[32m━━━━━━━━━━━━━━━━━━━━\u001B[0m\u001B[37m\u001B[0m \u001B[1m0s\u001B[0m 1ms/step - accuracy: 0.9737 - loss: 0.0725 - val_accuracy: 0.9785 - val_loss: 0.0566\n",
      "Epoch 20/50\n",
      "\u001B[1m396/396\u001B[0m \u001B[32m━━━━━━━━━━━━━━━━━━━━\u001B[0m\u001B[37m\u001B[0m \u001B[1m1s\u001B[0m 1ms/step - accuracy: 0.9715 - loss: 0.0709 - val_accuracy: 0.9773 - val_loss: 0.0564\n",
      "Epoch 21/50\n",
      "\u001B[1m396/396\u001B[0m \u001B[32m━━━━━━━━━━━━━━━━━━━━\u001B[0m\u001B[37m\u001B[0m \u001B[1m0s\u001B[0m 1ms/step - accuracy: 0.9729 - loss: 0.0731 - val_accuracy: 0.9779 - val_loss: 0.0556\n",
      "Epoch 22/50\n",
      "\u001B[1m396/396\u001B[0m \u001B[32m━━━━━━━━━━━━━━━━━━━━\u001B[0m\u001B[37m\u001B[0m \u001B[1m1s\u001B[0m 1ms/step - accuracy: 0.9743 - loss: 0.0702 - val_accuracy: 0.9789 - val_loss: 0.0553\n",
      "Epoch 23/50\n",
      "\u001B[1m396/396\u001B[0m \u001B[32m━━━━━━━━━━━━━━━━━━━━\u001B[0m\u001B[37m\u001B[0m \u001B[1m1s\u001B[0m 1ms/step - accuracy: 0.9724 - loss: 0.0723 - val_accuracy: 0.9798 - val_loss: 0.0529\n",
      "Epoch 24/50\n",
      "\u001B[1m396/396\u001B[0m \u001B[32m━━━━━━━━━━━━━━━━━━━━\u001B[0m\u001B[37m\u001B[0m \u001B[1m0s\u001B[0m 1ms/step - accuracy: 0.9720 - loss: 0.0747 - val_accuracy: 0.9773 - val_loss: 0.0538\n",
      "Epoch 25/50\n",
      "\u001B[1m396/396\u001B[0m \u001B[32m━━━━━━━━━━━━━━━━━━━━\u001B[0m\u001B[37m\u001B[0m \u001B[1m0s\u001B[0m 1ms/step - accuracy: 0.9735 - loss: 0.0724 - val_accuracy: 0.9785 - val_loss: 0.0529\n",
      "Epoch 26/50\n",
      "\u001B[1m396/396\u001B[0m \u001B[32m━━━━━━━━━━━━━━━━━━━━\u001B[0m\u001B[37m\u001B[0m \u001B[1m1s\u001B[0m 1ms/step - accuracy: 0.9749 - loss: 0.0653 - val_accuracy: 0.9782 - val_loss: 0.0523\n",
      "Epoch 27/50\n",
      "\u001B[1m396/396\u001B[0m \u001B[32m━━━━━━━━━━━━━━━━━━━━\u001B[0m\u001B[37m\u001B[0m \u001B[1m0s\u001B[0m 1ms/step - accuracy: 0.9753 - loss: 0.0676 - val_accuracy: 0.9817 - val_loss: 0.0499\n",
      "Epoch 28/50\n",
      "\u001B[1m396/396\u001B[0m \u001B[32m━━━━━━━━━━━━━━━━━━━━\u001B[0m\u001B[37m\u001B[0m \u001B[1m0s\u001B[0m 1ms/step - accuracy: 0.9747 - loss: 0.0671 - val_accuracy: 0.9807 - val_loss: 0.0499\n",
      "Epoch 29/50\n",
      "\u001B[1m396/396\u001B[0m \u001B[32m━━━━━━━━━━━━━━━━━━━━\u001B[0m\u001B[37m\u001B[0m \u001B[1m0s\u001B[0m 1ms/step - accuracy: 0.9757 - loss: 0.0635 - val_accuracy: 0.9817 - val_loss: 0.0496\n",
      "Epoch 30/50\n",
      "\u001B[1m396/396\u001B[0m \u001B[32m━━━━━━━━━━━━━━━━━━━━\u001B[0m\u001B[37m\u001B[0m \u001B[1m0s\u001B[0m 1ms/step - accuracy: 0.9749 - loss: 0.0658 - val_accuracy: 0.9811 - val_loss: 0.0492\n",
      "Epoch 31/50\n",
      "\u001B[1m396/396\u001B[0m \u001B[32m━━━━━━━━━━━━━━━━━━━━\u001B[0m\u001B[37m\u001B[0m \u001B[1m0s\u001B[0m 1ms/step - accuracy: 0.9789 - loss: 0.0559 - val_accuracy: 0.9807 - val_loss: 0.0478\n",
      "Epoch 32/50\n",
      "\u001B[1m396/396\u001B[0m \u001B[32m━━━━━━━━━━━━━━━━━━━━\u001B[0m\u001B[37m\u001B[0m \u001B[1m1s\u001B[0m 1ms/step - accuracy: 0.9798 - loss: 0.0565 - val_accuracy: 0.9807 - val_loss: 0.0471\n",
      "Epoch 33/50\n",
      "\u001B[1m396/396\u001B[0m \u001B[32m━━━━━━━━━━━━━━━━━━━━\u001B[0m\u001B[37m\u001B[0m \u001B[1m0s\u001B[0m 1ms/step - accuracy: 0.9769 - loss: 0.0586 - val_accuracy: 0.9845 - val_loss: 0.0456\n",
      "Epoch 34/50\n",
      "\u001B[1m396/396\u001B[0m \u001B[32m━━━━━━━━━━━━━━━━━━━━\u001B[0m\u001B[37m\u001B[0m \u001B[1m1s\u001B[0m 1ms/step - accuracy: 0.9766 - loss: 0.0633 - val_accuracy: 0.9842 - val_loss: 0.0453\n",
      "Epoch 35/50\n",
      "\u001B[1m396/396\u001B[0m \u001B[32m━━━━━━━━━━━━━━━━━━━━\u001B[0m\u001B[37m\u001B[0m \u001B[1m1s\u001B[0m 1ms/step - accuracy: 0.9783 - loss: 0.0592 - val_accuracy: 0.9814 - val_loss: 0.0455\n",
      "Epoch 36/50\n",
      "\u001B[1m396/396\u001B[0m \u001B[32m━━━━━━━━━━━━━━━━━━━━\u001B[0m\u001B[37m\u001B[0m \u001B[1m0s\u001B[0m 1ms/step - accuracy: 0.9771 - loss: 0.0622 - val_accuracy: 0.9852 - val_loss: 0.0420\n",
      "Epoch 37/50\n",
      "\u001B[1m396/396\u001B[0m \u001B[32m━━━━━━━━━━━━━━━━━━━━\u001B[0m\u001B[37m\u001B[0m \u001B[1m0s\u001B[0m 1ms/step - accuracy: 0.9791 - loss: 0.0586 - val_accuracy: 0.9845 - val_loss: 0.0419\n",
      "Epoch 38/50\n",
      "\u001B[1m396/396\u001B[0m \u001B[32m━━━━━━━━━━━━━━━━━━━━\u001B[0m\u001B[37m\u001B[0m \u001B[1m0s\u001B[0m 1ms/step - accuracy: 0.9787 - loss: 0.0561 - val_accuracy: 0.9858 - val_loss: 0.0405\n",
      "Epoch 39/50\n",
      "\u001B[1m396/396\u001B[0m \u001B[32m━━━━━━━━━━━━━━━━━━━━\u001B[0m\u001B[37m\u001B[0m \u001B[1m1s\u001B[0m 1ms/step - accuracy: 0.9814 - loss: 0.0536 - val_accuracy: 0.9861 - val_loss: 0.0393\n",
      "Epoch 40/50\n",
      "\u001B[1m396/396\u001B[0m \u001B[32m━━━━━━━━━━━━━━━━━━━━\u001B[0m\u001B[37m\u001B[0m \u001B[1m1s\u001B[0m 1ms/step - accuracy: 0.9768 - loss: 0.0602 - val_accuracy: 0.9867 - val_loss: 0.0383\n",
      "Epoch 41/50\n",
      "\u001B[1m396/396\u001B[0m \u001B[32m━━━━━━━━━━━━━━━━━━━━\u001B[0m\u001B[37m\u001B[0m \u001B[1m0s\u001B[0m 1ms/step - accuracy: 0.9799 - loss: 0.0581 - val_accuracy: 0.9877 - val_loss: 0.0375\n",
      "Epoch 42/50\n",
      "\u001B[1m396/396\u001B[0m \u001B[32m━━━━━━━━━━━━━━━━━━━━\u001B[0m\u001B[37m\u001B[0m \u001B[1m1s\u001B[0m 1ms/step - accuracy: 0.9801 - loss: 0.0536 - val_accuracy: 0.9867 - val_loss: 0.0365\n",
      "Epoch 43/50\n",
      "\u001B[1m396/396\u001B[0m \u001B[32m━━━━━━━━━━━━━━━━━━━━\u001B[0m\u001B[37m\u001B[0m \u001B[1m1s\u001B[0m 1ms/step - accuracy: 0.9790 - loss: 0.0523 - val_accuracy: 0.9877 - val_loss: 0.0360\n",
      "Epoch 44/50\n",
      "\u001B[1m396/396\u001B[0m \u001B[32m━━━━━━━━━━━━━━━━━━━━\u001B[0m\u001B[37m\u001B[0m \u001B[1m1s\u001B[0m 1ms/step - accuracy: 0.9815 - loss: 0.0546 - val_accuracy: 0.9871 - val_loss: 0.0366\n",
      "Epoch 45/50\n",
      "\u001B[1m396/396\u001B[0m \u001B[32m━━━━━━━━━━━━━━━━━━━━\u001B[0m\u001B[37m\u001B[0m \u001B[1m1s\u001B[0m 1ms/step - accuracy: 0.9820 - loss: 0.0502 - val_accuracy: 0.9871 - val_loss: 0.0354\n",
      "Epoch 46/50\n",
      "\u001B[1m396/396\u001B[0m \u001B[32m━━━━━━━━━━━━━━━━━━━━\u001B[0m\u001B[37m\u001B[0m \u001B[1m1s\u001B[0m 1ms/step - accuracy: 0.9826 - loss: 0.0482 - val_accuracy: 0.9877 - val_loss: 0.0338\n",
      "Epoch 47/50\n",
      "\u001B[1m396/396\u001B[0m \u001B[32m━━━━━━━━━━━━━━━━━━━━\u001B[0m\u001B[37m\u001B[0m \u001B[1m1s\u001B[0m 1ms/step - accuracy: 0.9849 - loss: 0.0440 - val_accuracy: 0.9905 - val_loss: 0.0323\n",
      "Epoch 48/50\n",
      "\u001B[1m396/396\u001B[0m \u001B[32m━━━━━━━━━━━━━━━━━━━━\u001B[0m\u001B[37m\u001B[0m \u001B[1m1s\u001B[0m 1ms/step - accuracy: 0.9833 - loss: 0.0522 - val_accuracy: 0.9883 - val_loss: 0.0332\n",
      "Epoch 49/50\n",
      "\u001B[1m396/396\u001B[0m \u001B[32m━━━━━━━━━━━━━━━━━━━━\u001B[0m\u001B[37m\u001B[0m \u001B[1m1s\u001B[0m 1ms/step - accuracy: 0.9840 - loss: 0.0463 - val_accuracy: 0.9915 - val_loss: 0.0306\n",
      "Epoch 50/50\n",
      "\u001B[1m396/396\u001B[0m \u001B[32m━━━━━━━━━━━━━━━━━━━━\u001B[0m\u001B[37m\u001B[0m \u001B[1m1s\u001B[0m 1ms/step - accuracy: 0.9829 - loss: 0.0466 - val_accuracy: 0.9921 - val_loss: 0.0294\n",
      "\u001B[1m99/99\u001B[0m \u001B[32m━━━━━━━━━━━━━━━━━━━━\u001B[0m\u001B[37m\u001B[0m \u001B[1m0s\u001B[0m 855us/step - accuracy: 0.9929 - loss: 0.0302\n",
      "MLP Test Accuracy: 0.9921\n"
     ]
    }
   ],
   "execution_count": 44
  },
  {
   "metadata": {
    "ExecuteTime": {
     "end_time": "2025-03-23T13:18:23.986903Z",
     "start_time": "2025-03-23T13:18:23.908139Z"
    }
   },
   "cell_type": "code",
   "source": [
    "\n",
    "plt.plot(history.history['loss'], label='Train Loss')\n",
    "plt.plot(history.history['val_loss'], label='Validation Loss')\n",
    "plt.xlabel('Epochs')\n",
    "plt.ylabel('Loss')\n",
    "plt.legend()\n",
    "plt.title('Training vs Validation Loss')\n",
    "plt.show()\n"
   ],
   "id": "5f506c19eb2e90c4",
   "outputs": [
    {
     "data": {
      "text/plain": [
       "<Figure size 640x480 with 1 Axes>"
      ],
      "image/png": "[encoded data removed]"
     },
     "metadata": {},
     "output_type": "display_data"
    }
   ],
   "execution_count": 46
  },
  {
   "metadata": {
    "ExecuteTime": {
     "end_time": "2025-03-23T13:32:36.871776Z",
     "start_time": "2025-03-23T13:32:36.845922Z"
    }
   },
   "cell_type": "code",
   "source": [
    "import joblib\n",
    "\n",
    "# Save model\n",
    "joblib.dump(model, \"trial1.h5\")  # Use the trained MLP model variable\n",
    "print(\"Model saved as trial1.h5\")\n"
   ],
   "id": "fa4a72fa60bbee52",
   "outputs": [
    {
     "name": "stdout",
     "output_type": "stream",
     "text": [
      "Model saved as trial1.h5\n"
     ]
    }
   ],
   "execution_count": 49
  },
  {
   "metadata": {
    "ExecuteTime": {
     "end_time": "2025-03-23T13:33:28.211192Z",
     "start_time": "2025-03-23T13:33:28.141191Z"
    }
   },
   "cell_type": "code",
   "source": [
    "from tensorflow.keras.models import load_model\n",
    "\n",
    "# Load the model from the .pkl file (if it's a valid Scikit-Learn model)\n",
    "import joblib\n",
    "model = joblib.load(\"trial1.pkl\")  # Load the old model\n",
    "\n",
    "# If it's actually a Keras model, save it in H5 or Keras format\n",
    "model.save(\"trial2.h5\")  # Save in H5 format\n",
    "model.save(\"trial2.keras\")  # Save in Keras 3 format (Recommended)\n"
   ],
   "id": "79c24c3eca86fdd9",
   "outputs": [
    {
     "name": "stderr",
     "output_type": "stream",
     "text": [
      "WARNING:absl:You are saving your model as an HDF5 file via `model.save()` or `keras.saving.save_model(model)`. This file format is considered legacy. We recommend using instead the native Keras format, e.g. `model.save('my_model.keras')` or `keras.saving.save_model(model, 'my_model.keras')`. \n"
     ]
    }
   ],
   "execution_count": 51
  },
  {
   "metadata": {},
   "cell_type": "code",
   "outputs": [],
   "execution_count": null,
   "source": "",
   "id": "cbf5c949abe513e2"
  }
 ],
 "metadata": {
  "kernelspec": {
   "display_name": "Python 3",
   "language": "python",
   "name": "python3"
  },
  "language_info": {
   "codemirror_mode": {
    "name": "ipython",
    "version": 2
   },
   "file_extension": ".py",
   "mimetype": "text/x-python",
   "name": "python",
   "nbconvert_exporter": "python",
   "pygments_lexer": "ipython2",
   "version": "2.7.6"
  }
 },
 "nbformat": 4,
 "nbformat_minor": 5
}
